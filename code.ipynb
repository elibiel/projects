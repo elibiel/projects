{
 "cells": [
  {
   "cell_type": "markdown",
   "metadata": {},
   "source": [
    " Paper; rock; scissors using loops and dictionaries"
   ]
  },
  {
   "cell_type": "code",
   "execution_count": 3,
   "metadata": {},
   "outputs": [
    {
     "name": "stdout",
     "output_type": "stream",
     "text": [
      "Computer choces s\n",
      "It is a tie\n",
      "Computer win\n"
     ]
    }
   ],
   "source": [
    "\n",
    "# Paper; rock; scissors using loops\n",
    "import random\n",
    "\n",
    "\n",
    "def win(player):\n",
    "  c = [\"p\", \"r\", \"s\"]\n",
    "  computer = random.choice(c)\n",
    "  print(\"Computer choces \" + computer)\n",
    "  if player == computer:\n",
    "    print(\"It is a tie\")\n",
    "  c = {\"p\": \"paper\", \"r\": \"rock\", \"s\": \"scissors\"}\n",
    "  win_criteria = {\"s\": \"p\", \"p\": \"r\", \"r\": \"s\"}\n",
    "  for key, value in win_criteria.items():\n",
    "    if key == player and value == computer:\n",
    "      print(\"Player win\")\n",
    "    elif key == computer and value == player:\n",
    "      print(\"Computer Win\")\n",
    "\n",
    "\n",
    "#win(\"s\")\n",
    "# Paper; rock; scissors using dictionaries\n",
    "\n",
    "def win(player):\n",
    "  c = [\"p\", \"r\", \"s\"]\n",
    "  computer = random.choice(c)\n",
    "  win_criteria = {\"s\": \"p\", \"p\": \"r\", \"r\": \"s\"}\n",
    "  print(\"Computer choces \" + computer)\n",
    "  if player == computer:\n",
    "    print(\"It is a tie\")\n",
    "    \n",
    "  checking = lambda a: a[0] == player and  a[1] == computer\n",
    "  component = list(win_criteria.items())\n",
    "  truefalse = list(map(checking, component))\n",
    "\n",
    "  if any(truefalse) == True:\n",
    "    print(\"Player win\")\n",
    "\n",
    "  else: print(\"Computer win\")\n",
    "\n",
    "win(\"s\")"
   ]
  },
  {
   "cell_type": "code",
   "execution_count": null,
   "metadata": {},
   "outputs": [],
   "source": []
  }
 ],
 "metadata": {
  "kernelspec": {
   "display_name": "base",
   "language": "python",
   "name": "python3"
  },
  "language_info": {
   "codemirror_mode": {
    "name": "ipython",
    "version": 3
   },
   "file_extension": ".py",
   "mimetype": "text/x-python",
   "name": "python",
   "nbconvert_exporter": "python",
   "pygments_lexer": "ipython3",
   "version": "3.12.4"
  }
 },
 "nbformat": 4,
 "nbformat_minor": 2
}
